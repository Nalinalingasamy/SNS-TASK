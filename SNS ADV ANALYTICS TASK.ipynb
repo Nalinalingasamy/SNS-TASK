{
 "cells": [
  {
   "cell_type": "code",
   "execution_count": 2,
   "id": "74d93fe0",
   "metadata": {},
   "outputs": [],
   "source": [
    "import pandas as pd"
   ]
  },
  {
   "cell_type": "code",
   "execution_count": 3,
   "id": "b14bd5c2",
   "metadata": {},
   "outputs": [
    {
     "data": {
      "text/html": [
       "<div>\n",
       "<style scoped>\n",
       "    .dataframe tbody tr th:only-of-type {\n",
       "        vertical-align: middle;\n",
       "    }\n",
       "\n",
       "    .dataframe tbody tr th {\n",
       "        vertical-align: top;\n",
       "    }\n",
       "\n",
       "    .dataframe thead th {\n",
       "        text-align: right;\n",
       "    }\n",
       "</style>\n",
       "<table border=\"1\" class=\"dataframe\">\n",
       "  <thead>\n",
       "    <tr style=\"text-align: right;\">\n",
       "      <th></th>\n",
       "      <th>Region</th>\n",
       "      <th>Country</th>\n",
       "      <th>Item Type</th>\n",
       "      <th>Sales Channel</th>\n",
       "      <th>Order Priority</th>\n",
       "      <th>Order Date</th>\n",
       "      <th>Order ID</th>\n",
       "      <th>Ship Date</th>\n",
       "      <th>Units Sold</th>\n",
       "      <th>Unit Price</th>\n",
       "      <th>Unit Cost</th>\n",
       "      <th>Total Revenue</th>\n",
       "      <th>Total Cost</th>\n",
       "      <th>Total Profit</th>\n",
       "    </tr>\n",
       "  </thead>\n",
       "  <tbody>\n",
       "    <tr>\n",
       "      <th>0</th>\n",
       "      <td>Australia and Oceania</td>\n",
       "      <td>Tuvalu</td>\n",
       "      <td>Baby Food</td>\n",
       "      <td>Offline</td>\n",
       "      <td>H</td>\n",
       "      <td>5/28/2010</td>\n",
       "      <td>669165933</td>\n",
       "      <td>6/27/2010</td>\n",
       "      <td>9925</td>\n",
       "      <td>255.28</td>\n",
       "      <td>159.42</td>\n",
       "      <td>2533654.00</td>\n",
       "      <td>1582243.50</td>\n",
       "      <td>951410.50</td>\n",
       "    </tr>\n",
       "    <tr>\n",
       "      <th>1</th>\n",
       "      <td>Central America and the Caribbean</td>\n",
       "      <td>Grenada</td>\n",
       "      <td>Cereal</td>\n",
       "      <td>Online</td>\n",
       "      <td>C</td>\n",
       "      <td>8/22/2012</td>\n",
       "      <td>963881480</td>\n",
       "      <td>9/15/2012</td>\n",
       "      <td>2804</td>\n",
       "      <td>205.70</td>\n",
       "      <td>117.11</td>\n",
       "      <td>576782.80</td>\n",
       "      <td>328376.44</td>\n",
       "      <td>248406.36</td>\n",
       "    </tr>\n",
       "    <tr>\n",
       "      <th>2</th>\n",
       "      <td>Europe</td>\n",
       "      <td>Russia</td>\n",
       "      <td>Office Supplies</td>\n",
       "      <td>Offline</td>\n",
       "      <td>L</td>\n",
       "      <td>05-02-2014</td>\n",
       "      <td>341417157</td>\n",
       "      <td>05-08-2014</td>\n",
       "      <td>1779</td>\n",
       "      <td>651.21</td>\n",
       "      <td>524.96</td>\n",
       "      <td>1158502.59</td>\n",
       "      <td>933903.84</td>\n",
       "      <td>224598.75</td>\n",
       "    </tr>\n",
       "    <tr>\n",
       "      <th>3</th>\n",
       "      <td>Sub-Saharan Africa</td>\n",
       "      <td>Sao Tome and Principe</td>\n",
       "      <td>Fruits</td>\n",
       "      <td>Online</td>\n",
       "      <td>C</td>\n",
       "      <td>6/20/2014</td>\n",
       "      <td>514321792</td>\n",
       "      <td>07-05-2014</td>\n",
       "      <td>8102</td>\n",
       "      <td>9.33</td>\n",
       "      <td>6.92</td>\n",
       "      <td>75591.66</td>\n",
       "      <td>56065.84</td>\n",
       "      <td>19525.82</td>\n",
       "    </tr>\n",
       "    <tr>\n",
       "      <th>4</th>\n",
       "      <td>Sub-Saharan Africa</td>\n",
       "      <td>Rwanda</td>\n",
       "      <td>Office Supplies</td>\n",
       "      <td>Offline</td>\n",
       "      <td>L</td>\n",
       "      <td>02-01-2013</td>\n",
       "      <td>115456712</td>\n",
       "      <td>02-06-2013</td>\n",
       "      <td>5062</td>\n",
       "      <td>651.21</td>\n",
       "      <td>524.96</td>\n",
       "      <td>3296425.02</td>\n",
       "      <td>2657347.52</td>\n",
       "      <td>639077.50</td>\n",
       "    </tr>\n",
       "  </tbody>\n",
       "</table>\n",
       "</div>"
      ],
      "text/plain": [
       "                              Region                Country        Item Type  \\\n",
       "0              Australia and Oceania                 Tuvalu        Baby Food   \n",
       "1  Central America and the Caribbean                Grenada           Cereal   \n",
       "2                             Europe                 Russia  Office Supplies   \n",
       "3                 Sub-Saharan Africa  Sao Tome and Principe           Fruits   \n",
       "4                 Sub-Saharan Africa                 Rwanda  Office Supplies   \n",
       "\n",
       "  Sales Channel Order Priority  Order Date   Order ID   Ship Date  Units Sold  \\\n",
       "0       Offline              H   5/28/2010  669165933   6/27/2010        9925   \n",
       "1        Online              C   8/22/2012  963881480   9/15/2012        2804   \n",
       "2       Offline              L  05-02-2014  341417157  05-08-2014        1779   \n",
       "3        Online              C   6/20/2014  514321792  07-05-2014        8102   \n",
       "4       Offline              L  02-01-2013  115456712  02-06-2013        5062   \n",
       "\n",
       "   Unit Price  Unit Cost  Total Revenue  Total Cost  Total Profit  \n",
       "0      255.28     159.42     2533654.00  1582243.50     951410.50  \n",
       "1      205.70     117.11      576782.80   328376.44     248406.36  \n",
       "2      651.21     524.96     1158502.59   933903.84     224598.75  \n",
       "3        9.33       6.92       75591.66    56065.84      19525.82  \n",
       "4      651.21     524.96     3296425.02  2657347.52     639077.50  "
      ]
     },
     "execution_count": 3,
     "metadata": {},
     "output_type": "execute_result"
    }
   ],
   "source": [
    "data = pd.read_csv(\"100 Sales Records.csv\")\n",
    "data.head()"
   ]
  },
  {
   "cell_type": "code",
   "execution_count": 4,
   "id": "b4516ff5",
   "metadata": {},
   "outputs": [
    {
     "data": {
      "text/plain": [
       "(100, 14)"
      ]
     },
     "execution_count": 4,
     "metadata": {},
     "output_type": "execute_result"
    }
   ],
   "source": [
    "data.shape"
   ]
  },
  {
   "cell_type": "code",
   "execution_count": 6,
   "id": "0007ad61",
   "metadata": {},
   "outputs": [
    {
     "data": {
      "text/plain": [
       "Index(['Region', 'Country', 'Item Type', 'Sales Channel', 'Order Priority',\n",
       "       'Order Date', 'Order ID', 'Ship Date', 'Units Sold', 'Unit Price',\n",
       "       'Unit Cost', 'Total Revenue', 'Total Cost', 'Total Profit'],\n",
       "      dtype='object')"
      ]
     },
     "execution_count": 6,
     "metadata": {},
     "output_type": "execute_result"
    }
   ],
   "source": [
    "data.columns"
   ]
  },
  {
   "cell_type": "code",
   "execution_count": 16,
   "id": "8372aab3",
   "metadata": {},
   "outputs": [
    {
     "data": {
      "text/plain": [
       "Region            0.0\n",
       "Country           0.0\n",
       "Item Type         0.0\n",
       "Sales Channel     0.0\n",
       "Order Priority    0.0\n",
       "Order Date        0.0\n",
       "Order ID          0.0\n",
       "Ship Date         0.0\n",
       "Units Sold        0.0\n",
       "Unit Price        0.0\n",
       "Unit Cost         0.0\n",
       "Total Revenue     0.0\n",
       "Total Cost        0.0\n",
       "Total Profit      0.0\n",
       "dtype: float64"
      ]
     },
     "execution_count": 16,
     "metadata": {},
     "output_type": "execute_result"
    }
   ],
   "source": [
    "#checking null values\n",
    "data.isnull().sum()/len(df)*100"
   ]
  },
  {
   "cell_type": "code",
   "execution_count": 17,
   "id": "65165c38",
   "metadata": {},
   "outputs": [
    {
     "data": {
      "text/html": [
       "<div>\n",
       "<style scoped>\n",
       "    .dataframe tbody tr th:only-of-type {\n",
       "        vertical-align: middle;\n",
       "    }\n",
       "\n",
       "    .dataframe tbody tr th {\n",
       "        vertical-align: top;\n",
       "    }\n",
       "\n",
       "    .dataframe thead th {\n",
       "        text-align: right;\n",
       "    }\n",
       "</style>\n",
       "<table border=\"1\" class=\"dataframe\">\n",
       "  <thead>\n",
       "    <tr style=\"text-align: right;\">\n",
       "      <th></th>\n",
       "      <th>Order ID</th>\n",
       "      <th>Units Sold</th>\n",
       "      <th>Unit Price</th>\n",
       "      <th>Unit Cost</th>\n",
       "      <th>Total Revenue</th>\n",
       "      <th>Total Cost</th>\n",
       "      <th>Total Profit</th>\n",
       "    </tr>\n",
       "  </thead>\n",
       "  <tbody>\n",
       "    <tr>\n",
       "      <th>count</th>\n",
       "      <td>1.000000e+02</td>\n",
       "      <td>100.000000</td>\n",
       "      <td>100.000000</td>\n",
       "      <td>100.000000</td>\n",
       "      <td>1.000000e+02</td>\n",
       "      <td>1.000000e+02</td>\n",
       "      <td>1.000000e+02</td>\n",
       "    </tr>\n",
       "    <tr>\n",
       "      <th>mean</th>\n",
       "      <td>5.550204e+08</td>\n",
       "      <td>5128.710000</td>\n",
       "      <td>276.761300</td>\n",
       "      <td>191.048000</td>\n",
       "      <td>1.373488e+06</td>\n",
       "      <td>9.318057e+05</td>\n",
       "      <td>4.416820e+05</td>\n",
       "    </tr>\n",
       "    <tr>\n",
       "      <th>std</th>\n",
       "      <td>2.606153e+08</td>\n",
       "      <td>2794.484562</td>\n",
       "      <td>235.592241</td>\n",
       "      <td>188.208181</td>\n",
       "      <td>1.460029e+06</td>\n",
       "      <td>1.083938e+06</td>\n",
       "      <td>4.385379e+05</td>\n",
       "    </tr>\n",
       "    <tr>\n",
       "      <th>min</th>\n",
       "      <td>1.146066e+08</td>\n",
       "      <td>124.000000</td>\n",
       "      <td>9.330000</td>\n",
       "      <td>6.920000</td>\n",
       "      <td>4.870260e+03</td>\n",
       "      <td>3.612240e+03</td>\n",
       "      <td>1.258020e+03</td>\n",
       "    </tr>\n",
       "    <tr>\n",
       "      <th>25%</th>\n",
       "      <td>3.389225e+08</td>\n",
       "      <td>2836.250000</td>\n",
       "      <td>81.730000</td>\n",
       "      <td>35.840000</td>\n",
       "      <td>2.687212e+05</td>\n",
       "      <td>1.688680e+05</td>\n",
       "      <td>1.214436e+05</td>\n",
       "    </tr>\n",
       "    <tr>\n",
       "      <th>50%</th>\n",
       "      <td>5.577086e+08</td>\n",
       "      <td>5382.500000</td>\n",
       "      <td>179.880000</td>\n",
       "      <td>107.275000</td>\n",
       "      <td>7.523144e+05</td>\n",
       "      <td>3.635664e+05</td>\n",
       "      <td>2.907680e+05</td>\n",
       "    </tr>\n",
       "    <tr>\n",
       "      <th>75%</th>\n",
       "      <td>7.907551e+08</td>\n",
       "      <td>7369.000000</td>\n",
       "      <td>437.200000</td>\n",
       "      <td>263.330000</td>\n",
       "      <td>2.212045e+06</td>\n",
       "      <td>1.613870e+06</td>\n",
       "      <td>6.358288e+05</td>\n",
       "    </tr>\n",
       "    <tr>\n",
       "      <th>max</th>\n",
       "      <td>9.940222e+08</td>\n",
       "      <td>9925.000000</td>\n",
       "      <td>668.270000</td>\n",
       "      <td>524.960000</td>\n",
       "      <td>5.997055e+06</td>\n",
       "      <td>4.509794e+06</td>\n",
       "      <td>1.719922e+06</td>\n",
       "    </tr>\n",
       "  </tbody>\n",
       "</table>\n",
       "</div>"
      ],
      "text/plain": [
       "           Order ID   Units Sold  Unit Price   Unit Cost  Total Revenue  \\\n",
       "count  1.000000e+02   100.000000  100.000000  100.000000   1.000000e+02   \n",
       "mean   5.550204e+08  5128.710000  276.761300  191.048000   1.373488e+06   \n",
       "std    2.606153e+08  2794.484562  235.592241  188.208181   1.460029e+06   \n",
       "min    1.146066e+08   124.000000    9.330000    6.920000   4.870260e+03   \n",
       "25%    3.389225e+08  2836.250000   81.730000   35.840000   2.687212e+05   \n",
       "50%    5.577086e+08  5382.500000  179.880000  107.275000   7.523144e+05   \n",
       "75%    7.907551e+08  7369.000000  437.200000  263.330000   2.212045e+06   \n",
       "max    9.940222e+08  9925.000000  668.270000  524.960000   5.997055e+06   \n",
       "\n",
       "         Total Cost  Total Profit  \n",
       "count  1.000000e+02  1.000000e+02  \n",
       "mean   9.318057e+05  4.416820e+05  \n",
       "std    1.083938e+06  4.385379e+05  \n",
       "min    3.612240e+03  1.258020e+03  \n",
       "25%    1.688680e+05  1.214436e+05  \n",
       "50%    3.635664e+05  2.907680e+05  \n",
       "75%    1.613870e+06  6.358288e+05  \n",
       "max    4.509794e+06  1.719922e+06  "
      ]
     },
     "execution_count": 17,
     "metadata": {},
     "output_type": "execute_result"
    }
   ],
   "source": [
    "data.describe()"
   ]
  },
  {
   "cell_type": "code",
   "execution_count": 19,
   "id": "b215b484",
   "metadata": {},
   "outputs": [
    {
     "data": {
      "text/plain": [
       "Region             object\n",
       "Country            object\n",
       "Item Type          object\n",
       "Sales Channel      object\n",
       "Order Priority     object\n",
       "Order Date         object\n",
       "Order ID            int64\n",
       "Ship Date          object\n",
       "Units Sold          int64\n",
       "Unit Price        float64\n",
       "Unit Cost         float64\n",
       "Total Revenue     float64\n",
       "Total Cost        float64\n",
       "Total Profit      float64\n",
       "dtype: object"
      ]
     },
     "execution_count": 19,
     "metadata": {},
     "output_type": "execute_result"
    }
   ],
   "source": [
    "data.dtypes"
   ]
  },
  {
   "cell_type": "code",
   "execution_count": 9,
   "id": "4cab26aa",
   "metadata": {},
   "outputs": [
    {
     "name": "stdout",
     "output_type": "stream",
     "text": [
      "<DatetimeArray>\n",
      "['2010-05-28 00:00:00', '2012-08-22 00:00:00', '2014-05-02 00:00:00',\n",
      " '2014-06-20 00:00:00', '2013-02-01 00:00:00', '2015-02-04 00:00:00',\n",
      " '2011-04-23 00:00:00', '2012-07-17 00:00:00', '2015-07-14 00:00:00',\n",
      " '2014-04-18 00:00:00', '2011-06-24 00:00:00', '2014-08-02 00:00:00',\n",
      " '2017-01-13 00:00:00', '2017-02-08 00:00:00', '2014-02-19 00:00:00',\n",
      " '2012-04-23 00:00:00', '2016-11-19 00:00:00', '2015-04-01 00:00:00',\n",
      " '2010-12-30 00:00:00', '2012-07-31 00:00:00', '2014-05-14 00:00:00',\n",
      " '2015-07-31 00:00:00', '2016-06-30 00:00:00', '2014-09-08 00:00:00',\n",
      " '2016-05-07 00:00:00', '2017-05-22 00:00:00', '2014-10-13 00:00:00',\n",
      " '2010-05-07 00:00:00', '2014-07-18 00:00:00', '2012-05-26 00:00:00',\n",
      " '2012-09-17 00:00:00', '2013-12-29 00:00:00', '2015-10-27 00:00:00',\n",
      " '2015-01-16 00:00:00', '2017-02-25 00:00:00', '2017-05-08 00:00:00',\n",
      " '2011-11-22 00:00:00', '2017-01-14 00:00:00', '2012-04-01 00:00:00',\n",
      " '2012-02-16 00:00:00', '2017-03-11 00:00:00', '2010-02-06 00:00:00',\n",
      " '2012-06-07 00:00:00', '2012-10-06 00:00:00', '2015-11-14 00:00:00',\n",
      " '2016-03-29 00:00:00', '2016-12-31 00:00:00', '2010-12-23 00:00:00',\n",
      " '2014-10-14 00:00:00', '2012-01-11 00:00:00', '2010-02-02 00:00:00',\n",
      " '2013-08-18 00:00:00', '2013-03-25 00:00:00', '2011-11-26 00:00:00',\n",
      " '2013-09-17 00:00:00', '2012-06-08 00:00:00', '2010-06-30 00:00:00',\n",
      " '2015-02-23 00:00:00', '2012-01-05 00:00:00', '2014-04-07 00:00:00',\n",
      " '2013-06-09 00:00:00', '2013-06-26 00:00:00', '2011-11-07 00:00:00',\n",
      " '2010-10-30 00:00:00', '2013-10-13 00:00:00', '2013-10-11 00:00:00',\n",
      " '2012-07-08 00:00:00', '2016-07-25 00:00:00', '2010-10-24 00:00:00',\n",
      " '2015-04-25 00:00:00', '2013-04-23 00:00:00', '2015-08-14 00:00:00',\n",
      " '2011-05-26 00:00:00', '2017-05-20 00:00:00', '2013-07-05 00:00:00',\n",
      " '2014-11-06 00:00:00', '2014-10-28 00:00:00', '2011-09-15 00:00:00',\n",
      " '2012-05-29 00:00:00', '2013-07-20 00:00:00', '2012-10-21 00:00:00',\n",
      " '2012-09-18 00:00:00', '2016-11-15 00:00:00', '2011-01-04 00:00:00',\n",
      " '2012-03-18 00:00:00', '2012-02-17 00:00:00', '2011-01-16 00:00:00',\n",
      " '2014-02-03 00:00:00', '2012-04-30 00:00:00', '2016-10-23 00:00:00',\n",
      " '2016-12-06 00:00:00', '2014-07-07 00:00:00', '2012-06-13 00:00:00',\n",
      " '2010-11-26 00:00:00', '2011-02-08 00:00:00', '2011-07-26 00:00:00',\n",
      " '2011-11-11 00:00:00', '2016-06-01 00:00:00', '2015-07-30 00:00:00',\n",
      " '2012-02-10 00:00:00']\n",
      "Length: 100, dtype: datetime64[ns]\n"
     ]
    }
   ],
   "source": [
    "# Checking unique date formats\n",
    "date_formats = data['Order Date'].apply(lambda x: pd.to_datetime(x, errors='coerce')).dropna().unique()\n",
    "print(date_formats)"
   ]
  },
  {
   "cell_type": "code",
   "execution_count": 10,
   "id": "681f2e62",
   "metadata": {},
   "outputs": [],
   "source": [
    "# Converting dates with automatic inference\n",
    "data['Order Date'] = pd.to_datetime(data['Order Date'], errors='coerce')\n",
    "data['Ship Date'] = pd.to_datetime(data['Ship Date'], errors='coerce')\n"
   ]
  },
  {
   "cell_type": "code",
   "execution_count": 11,
   "id": "c2422434",
   "metadata": {},
   "outputs": [
    {
     "name": "stdout",
     "output_type": "stream",
     "text": [
      "Order Date    34\n",
      "Ship Date     36\n",
      "dtype: int64\n"
     ]
    }
   ],
   "source": [
    "# Checking for missing dates\n",
    "print(data[['Order Date', 'Ship Date']].isna().sum())\n"
   ]
  },
  {
   "cell_type": "code",
   "execution_count": 12,
   "id": "ce240ae0",
   "metadata": {},
   "outputs": [],
   "source": [
    "# Feature Engineering\n",
    "data['Year'] = data['Order Date'].dt.year\n",
    "data['Month'] = data['Order Date'].dt.month\n",
    "data['Quarter'] = data['Order Date'].dt.quarter\n",
    "\n",
    "# Aggregate data\n",
    "monthly_sales = data.groupby(['Year', 'Month'])['Total Revenue'].sum().reset_index()\n",
    "monthly_sales.columns = ['Year', 'Month', 'Total Revenue']\n",
    "\n",
    "# Create Lag Features\n",
    "monthly_sales['Lag_1'] = monthly_sales['Total Revenue'].shift(1)\n",
    "monthly_sales['Lag_2'] = monthly_sales['Total Revenue'].shift(2)\n",
    "monthly_sales = monthly_sales.dropna()  # Dropping rows with NaN values due to shifting\n"
   ]
  },
  {
   "cell_type": "code",
   "execution_count": 14,
   "id": "3669d52e",
   "metadata": {},
   "outputs": [],
   "source": [
    "# Extracting year, month, and quarter from 'Order Date'\n",
    "data['Year'] = data['Order Date'].dt.year\n",
    "data['Month'] = data['Order Date'].dt.month\n",
    "data['Quarter'] = data['Order Date'].dt.quarter\n",
    "\n",
    "# Aggregate sales data monthly\n",
    "monthly_sales = data.groupby(['Year', 'Month'])['Total Revenue'].sum().reset_index()\n",
    "monthly_sales.columns = ['Year', 'Month', 'Total Revenue']\n",
    "\n",
    "# Creating lag features for forecasting\n",
    "monthly_sales['Lag_1'] = monthly_sales['Total Revenue'].shift(1)\n",
    "monthly_sales['Lag_2'] = monthly_sales['Total Revenue'].shift(2)\n",
    "monthly_sales = monthly_sales.dropna()  # Dropping rows with NaN values due to lag features"
   ]
  },
  {
   "cell_type": "code",
   "execution_count": 15,
   "id": "1db27416",
   "metadata": {},
   "outputs": [],
   "source": [
    "from sklearn.model_selection import train_test_split\n",
    "\n",
    "# Defining features and target\n",
    "X = monthly_sales[['Lag_1', 'Lag_2']]\n",
    "y = monthly_sales['Total Revenue']\n",
    "\n",
    "# Splitting the data chronologically (no shuffling)\n",
    "X_train, X_test, y_train, y_test = train_test_split(X, y, test_size=0.2, shuffle=False)\n"
   ]
  },
  {
   "cell_type": "code",
   "execution_count": 16,
   "id": "bdb9e466",
   "metadata": {},
   "outputs": [],
   "source": [
    "from sklearn.ensemble import RandomForestRegressor\n",
    "from sklearn.metrics import mean_absolute_error, mean_squared_error\n",
    "\n",
    "# Initializing and training the model\n",
    "model = RandomForestRegressor(n_estimators=100, random_state=42)\n",
    "model.fit(X_train, y_train)\n",
    "\n",
    "# Predicting on the test set\n",
    "y_pred = model.predict(X_test)\n"
   ]
  },
  {
   "cell_type": "code",
   "execution_count": 17,
   "id": "14c9f150",
   "metadata": {},
   "outputs": [
    {
     "name": "stdout",
     "output_type": "stream",
     "text": [
      "Mean Absolute Error: 1442817.45911\n",
      "Mean Squared Error: 3001104407445.5815\n"
     ]
    }
   ],
   "source": [
    "# Calculating error metrics\n",
    "mae = mean_absolute_error(y_test, y_pred)\n",
    "mse = mean_squared_error(y_test, y_pred)\n",
    "\n",
    "print(f\"Mean Absolute Error: {mae}\")\n",
    "print(f\"Mean Squared Error: {mse}\")\n"
   ]
  },
  {
   "cell_type": "code",
   "execution_count": 19,
   "id": "1a510c72",
   "metadata": {},
   "outputs": [
    {
     "name": "stdout",
     "output_type": "stream",
     "text": [
      "Forecasted Sales for the next 3 months: [3201758.2075000014, 1082003.5122999998, 3246202.852000002]\n"
     ]
    },
    {
     "name": "stderr",
     "output_type": "stream",
     "text": [
      "C:\\ProgramData\\anaconda3\\Lib\\site-packages\\sklearn\\base.py:464: UserWarning: X does not have valid feature names, but RandomForestRegressor was fitted with feature names\n",
      "  warnings.warn(\n",
      "C:\\ProgramData\\anaconda3\\Lib\\site-packages\\sklearn\\base.py:464: UserWarning: X does not have valid feature names, but RandomForestRegressor was fitted with feature names\n",
      "  warnings.warn(\n",
      "C:\\ProgramData\\anaconda3\\Lib\\site-packages\\sklearn\\base.py:464: UserWarning: X does not have valid feature names, but RandomForestRegressor was fitted with feature names\n",
      "  warnings.warn(\n"
     ]
    }
   ],
   "source": [
    "import numpy as np\n",
    "\n",
    "# Using the last known values to predict future sales\n",
    "latest_data = np.array(monthly_sales[['Lag_1', 'Lag_2']].iloc[-1]).reshape(1, -1)\n",
    "\n",
    "# Predicting sales for the next 3 months\n",
    "future_sales = []\n",
    "for _ in range(3):\n",
    "    next_month_sales = model.predict(latest_data)[0]\n",
    "    future_sales.append(next_month_sales)\n",
    "    # Update the latest data for the next prediction\n",
    "    latest_data = np.array([[next_month_sales, latest_data[0, 0]]])\n",
    "\n",
    "print(f\"Forecasted Sales for the next 3 months: {future_sales}\")\n"
   ]
  },
  {
   "cell_type": "code",
   "execution_count": null,
   "id": "dc686e7e",
   "metadata": {},
   "outputs": [],
   "source": []
  },
  {
   "cell_type": "code",
   "execution_count": null,
   "id": "b5c5b883",
   "metadata": {},
   "outputs": [],
   "source": []
  },
  {
   "cell_type": "code",
   "execution_count": null,
   "id": "e073e70a",
   "metadata": {},
   "outputs": [],
   "source": []
  },
  {
   "cell_type": "code",
   "execution_count": null,
   "id": "429b1ac5",
   "metadata": {},
   "outputs": [],
   "source": []
  },
  {
   "cell_type": "code",
   "execution_count": null,
   "id": "3866b856",
   "metadata": {},
   "outputs": [],
   "source": []
  }
 ],
 "metadata": {
  "kernelspec": {
   "display_name": "Python 3 (ipykernel)",
   "language": "python",
   "name": "python3"
  },
  "language_info": {
   "codemirror_mode": {
    "name": "ipython",
    "version": 3
   },
   "file_extension": ".py",
   "mimetype": "text/x-python",
   "name": "python",
   "nbconvert_exporter": "python",
   "pygments_lexer": "ipython3",
   "version": "3.11.5"
  }
 },
 "nbformat": 4,
 "nbformat_minor": 5
}
